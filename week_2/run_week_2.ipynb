{
 "cells": [
  {
   "cell_type": "markdown",
   "metadata": {},
   "source": [
    "# Overview"
   ]
  },
  {
   "cell_type": "markdown",
   "metadata": {},
   "source": [
    "This notebook runs through the week 2 task from the MLX apprenticeship, namely building a multi-stage search model via a two-towers architecture, and deploying it via Gradio and Tmux."
   ]
  },
  {
   "cell_type": "markdown",
   "metadata": {},
   "source": [
    "# Initial Imports"
   ]
  },
  {
   "cell_type": "code",
   "execution_count": null,
   "metadata": {},
   "outputs": [],
   "source": [
    "from datasets import load_dataset_builder, load_dataset # HuggingFace\n",
    "import pandas as pd\n",
    "import csv\n",
    "import torch\n",
    "import string\n",
    "import tqdm"
   ]
  },
  {
   "cell_type": "markdown",
   "metadata": {},
   "source": [
    "# Load Dataset"
   ]
  },
  {
   "cell_type": "code",
   "execution_count": null,
   "metadata": {},
   "outputs": [],
   "source": [
    "dataset = load_dataset(\"ms_marco\", 'v1.1', split=\"train\")\n",
    "# df_train = pd.DataFrame(dataset)\n",
    "# Restrict dataset for testing purposes\n",
    "df_train = pd.DataFrame(dataset)[:100]"
   ]
  },
  {
   "cell_type": "markdown",
   "metadata": {},
   "source": [
    "# Tokenise via SentencePiece"
   ]
  },
  {
   "cell_type": "markdown",
   "metadata": {},
   "source": [
    "## Prepare data"
   ]
  },
  {
   "cell_type": "code",
   "execution_count": null,
   "metadata": {},
   "outputs": [],
   "source": [
    "from tokenizer import prepare_sentencepiece_dataset\n",
    "import sentencepiece as spm\n",
    "from tokenizer import train_sentencepiece\n",
    "\n",
    "# Write a csv file to disk, in the format expected by the SentencePieceTrainer\n",
    "prepare_sentencepiece_dataset(df_train, output_file = 'sentence_piece_input.csv')"
   ]
  },
  {
   "cell_type": "markdown",
   "metadata": {},
   "source": [
    "## Train SP Model"
   ]
  },
  {
   "cell_type": "code",
   "execution_count": null,
   "metadata": {},
   "outputs": [],
   "source": [
    "# Define parameters for SP training\n",
    "from config import Config\n",
    "input = 'sentence_piece_input.csv'\n",
    "model_prefix = 'mymodel'\n",
    "vocab_size = Config.SP_VOCAB_SIZE\n",
    "character_coverage = Config.SP_CHARACTER_COVERAGE\n",
    "model_type = Config.SP_MODEL_TYPE\n",
    "\n",
    "train_sentencepiece(input, model_prefix, vocab_size, character_coverage, model_type)\n",
    "\n",
    "print(\"Model trained and saved as mymodel.model and mymodel.vocab!\")"
   ]
  },
  {
   "cell_type": "markdown",
   "metadata": {},
   "source": [
    "## Run on Dataset"
   ]
  },
  {
   "cell_type": "code",
   "execution_count": null,
   "metadata": {},
   "outputs": [],
   "source": [
    "import sentencepiece as spm\n",
    "# Load the trained SentencePiece model\n",
    "sp = spm.SentencePieceProcessor()\n",
    "sp.Load('mymodel.model')\n",
    "# Read in prepared SP input\n",
    "sentence_piece_input = pd.read_csv('sentence_piece_input.csv', header =None, names = ['sentence'])\n",
    "# Tokenize each sentence into tokens and token ids\n",
    "sentence_piece_input['tokenized'] = sentence_piece_input['sentence'].apply(lambda x: sp.EncodeAsPieces(str(x)))\n",
    "sentence_piece_input['tokenized_ids'] = sentence_piece_input['sentence'].apply(lambda x: sp.EncodeAsIds(str(x)))\n",
    "sentence_piece_input.to_csv('ms_marco_tokenised.csv')"
   ]
  },
  {
   "cell_type": "markdown",
   "metadata": {},
   "source": [
    "# Output Token Embeddings"
   ]
  },
  {
   "cell_type": "markdown",
   "metadata": {},
   "source": [
    "## Construct Word2Vec Dataset via CBOW"
   ]
  },
  {
   "cell_type": "markdown",
   "metadata": {},
   "source": [
    "Some W2V Notes\n",
    "- generate CBOW table\n",
    "- initialise embedding matrix and linear layer\n",
    "- for each loop:\n",
    "    - grab embedding vectors for context words\n",
    "    - sum into one embedding vector\n",
    "    - multiply by linear layer\n",
    "    - softmax the result\n",
    "    - calc loss against target\n",
    "    - backprop"
   ]
  },
  {
   "cell_type": "code",
   "execution_count": null,
   "metadata": {},
   "outputs": [],
   "source": [
    "from two_tower_datasets import W2VData\n",
    "\n",
    "dataset = W2VData(sentence_piece_input, Config.CBOW_WINDOW_SIZE)"
   ]
  },
  {
   "cell_type": "code",
   "execution_count": null,
   "metadata": {},
   "outputs": [],
   "source": [
    "# Set a high batch size for the DataLoader\n",
    "dataloader = torch.utils.data.DataLoader(dataset, batch_size=1024, shuffle=True)"
   ]
  },
  {
   "cell_type": "markdown",
   "metadata": {},
   "source": [
    "## Initialise W2V Model"
   ]
  },
  {
   "cell_type": "code",
   "execution_count": null,
   "metadata": {},
   "outputs": [],
   "source": [
    "from model import CBOW\n",
    "vocab_size = sp.GetPieceSize()\n",
    "# Initialise CBOW model (vocab_size x embedding_dim)\n",
    "cbow = CBOW(vocab_size, Config.W2V_EMBEDDING_DIM)\n",
    "loss_function = torch.nn.NLLLoss()\n",
    "optimizer = torch.optim.SGD(cbow.parameters(), lr=0.001)"
   ]
  },
  {
   "cell_type": "markdown",
   "metadata": {},
   "source": [
    "## Train Word2Vec Model (to give token embeddings)"
   ]
  },
  {
   "cell_type": "code",
   "execution_count": null,
   "metadata": {},
   "outputs": [],
   "source": [
    "from train import train_cbow\n",
    "# Run CBOW training, to get embedding matrix\n",
    "# This will be passed to two-tower model\n",
    "train_cbow(n_epochs=1, model=cbow, loss_function=loss_function, optimizer=optimizer, dataloader=dataloader)"
   ]
  },
  {
   "cell_type": "markdown",
   "metadata": {},
   "source": [
    "Now we have trained an embedding matrix, via the CBOW method, to give us an (vocab_size, embedding_dim) matrix. We have two options now:\n",
    "1. Use an RNN/LSTM to convert these token embeddings into sentence embeddings, for all of our query and document sentences. Follow this up with a two-tower architecture.\n",
    "2. Skip the sentence embedding step, and use the embedding matrix directly in a two-tower (RNN/LSTM) architecture. \n",
    "\n",
    "In this notebook I'll do the latter, because, time constraints, less complex architecture, and possibly improved performance, at the cost of training time (I think)."
   ]
  },
  {
   "cell_type": "markdown",
   "metadata": {},
   "source": [
    "# Build Dataset for Two-Towers Architecture"
   ]
  },
  {
   "cell_type": "code",
   "execution_count": null,
   "metadata": {},
   "outputs": [],
   "source": [
    "# from two_tower_datasets import two_tower_dataset\n",
    "# Use faster version of this function\n",
    "from two_tower_datasets import two_tower_dataset_optimized\n",
    "\n",
    "# Reload MS Marco dataset, to create two-tower dataset\n",
    "dataset = load_dataset(\"ms_marco\", 'v1.1', split=\"train\")\n",
    "\n",
    "# Again, restrict training data\n",
    "df_train = pd.DataFrame(dataset)[:100]\n",
    "print (len(df_train))\n",
    "\n",
    "# non-optimised function also uses positive and negative user\n",
    "# labels instead of a boolean, if bing returned doc\n",
    "# result_df = two_tower_dataset(df_train)\n",
    "result_df = two_tower_dataset_optimized(df_train)"
   ]
  },
  {
   "cell_type": "markdown",
   "metadata": {},
   "source": [
    "## Tokenise queries and passages"
   ]
  },
  {
   "cell_type": "code",
   "execution_count": null,
   "metadata": {},
   "outputs": [],
   "source": [
    "result_df['query'] = result_df['query'].apply(lambda x: sp.EncodeAsIds(str(x)))\n",
    "result_df['passage_text'] = result_df['passage_text'].apply(lambda x: sp.EncodeAsIds(str(x)))"
   ]
  },
  {
   "cell_type": "markdown",
   "metadata": {},
   "source": [
    "## Convert to dataset and dataloader"
   ]
  },
  {
   "cell_type": "code",
   "execution_count": null,
   "metadata": {},
   "outputs": [],
   "source": [
    "from torch.utils.data import DataLoader\n",
    "from two_tower_datasets import TwoTowerData, collate_fn, pad_sequence\n",
    "from torch.utils.data import DataLoader\n",
    "\n",
    "two_tower_dataset = TwoTowerData(result_df)\n",
    "batch_size = 512\n",
    "two_tower_dataloader = DataLoader(two_tower_dataset, batch_size = batch_size, shuffle=True, collate_fn=collate_fn)"
   ]
  },
  {
   "cell_type": "markdown",
   "metadata": {},
   "source": [
    "# Initialise Two-Tower and Train"
   ]
  },
  {
   "cell_type": "code",
   "execution_count": null,
   "metadata": {},
   "outputs": [],
   "source": [
    "import torch\n",
    "import torch.nn as nn\n",
    "import torch.nn.functional as F\n",
    "from model import TwoTowerModel, CBOW\n",
    "from loss import contrastive_loss\n",
    "from train import train_two_tower\n",
    "\n",
    "# Load CBOW model\n",
    "embedding_weights = cbow.embeddings.weight.data.detach()\n",
    "# Initialise two-tower model\n",
    "model = TwoTowerModel(\n",
    "    embedding_matrix=torch.tensor(embedding_weights),\n",
    "    hidden_size=Config.TWO_TOWER_HIDDEN_DIM,\n",
    "    output_size=Config.TWO_TOWER_OUTPUT_DIM)\n",
    "optimizer = torch.optim.Adam(model.parameters(), lr=0.001)\n",
    "n_epochs_two_tower = 2\n",
    "\n",
    "# Run two-tower training\n",
    "train_two_tower(n_epochs_two_tower, model, contrastive_loss, optimizer, two_tower_dataloader)"
   ]
  },
  {
   "cell_type": "markdown",
   "metadata": {},
   "source": [
    "Speed improvements to training:\n",
    "1. GPU\n",
    "2. num_workers in dataloaders\n",
    "3. mixed precision training\n",
    "4. set requires_grad = false on embedding (or, do I unfreeze?)"
   ]
  },
  {
   "cell_type": "markdown",
   "metadata": {},
   "source": [
    "# Store Offline Doc Embeddings"
   ]
  },
  {
   "cell_type": "code",
   "execution_count": null,
   "metadata": {},
   "outputs": [],
   "source": [
    "import torch.nn.functional as F\n",
    "import inference\n",
    "from inference import create_offline_sentence_embeddings\n",
    "\n",
    "# Ensure model is in evaluation mode\n",
    "model.eval()\n",
    "torch.save(model.state_dict(), 'two_tower.pth')\n",
    "\n",
    "# Test\n",
    "sentences = list(sentence_piece_input['sentence'].values)\n",
    "tokenizer = sp\n",
    "\n",
    "offline_embeddings_dict = create_offline_sentence_embeddings(sentences, model, tokenizer)"
   ]
  },
  {
   "cell_type": "code",
   "execution_count": null,
   "metadata": {},
   "outputs": [],
   "source": [
    "offline_embeddings_dict"
   ]
  },
  {
   "cell_type": "code",
   "execution_count": null,
   "metadata": {},
   "outputs": [],
   "source": [
    "# Dump offline embeddings in json (doesn't work yet)\n",
    "import json\n",
    "converted_dict = {k: [v] if not isinstance(v, list) else v for k, v in offline_embeddings_dict.items()}\n",
    "\n",
    "with open('offline_embeddings_dict.json', 'w') as f:\n",
    "    json.dump(converted_dict, f)"
   ]
  },
  {
   "cell_type": "markdown",
   "metadata": {},
   "source": [
    "# Test Search Manually"
   ]
  },
  {
   "cell_type": "code",
   "execution_count": null,
   "metadata": {},
   "outputs": [],
   "source": [
    "from inference import get_query_embedding, compute_similarities\n",
    "query = \"Sunlight in August at Orlando lasts for 13 hours and 7 minutes a day on average\"\n",
    "query_embedding = get_query_embedding(query, model, tokenizer)\n",
    "similarities = compute_similarities(query_embedding, offline_embeddings_dict, model, tokenizer)\n",
    "\n",
    "# Get top 10 matches (adjust as needed)\n",
    "sorted_indices = sorted(similarities.items(), key=lambda item: item[1], reverse=True)\n",
    "top_matches = sorted_indices[:10]\n",
    "\n",
    "for i in top_matches:\n",
    "    print(i)"
   ]
  },
  {
   "cell_type": "code",
   "execution_count": null,
   "metadata": {},
   "outputs": [],
   "source": []
  }
 ],
 "metadata": {
  "kernelspec": {
   "display_name": "Python 3 (ipykernel)",
   "language": "python",
   "name": "python3"
  },
  "language_info": {
   "codemirror_mode": {
    "name": "ipython",
    "version": 3
   },
   "file_extension": ".py",
   "mimetype": "text/x-python",
   "name": "python",
   "nbconvert_exporter": "python",
   "pygments_lexer": "ipython3",
   "version": "3.9.17"
  }
 },
 "nbformat": 4,
 "nbformat_minor": 4
}
