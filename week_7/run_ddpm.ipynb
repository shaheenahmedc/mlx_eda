{
 "cells": [
  {
   "cell_type": "code",
   "execution_count": null,
   "metadata": {},
   "outputs": [],
   "source": [
    "!pip install opendatasets\n",
    "!pip install pandas\n",
    "!pip install matplotlib\n",
    "!pip install tensorboard"
   ]
  },
  {
   "cell_type": "code",
   "execution_count": null,
   "metadata": {},
   "outputs": [],
   "source": [
    "# import opendatasets as od\n",
    "# od.download(\n",
    "#     \"https://www.kaggle.com/datasets/lantian773030/pokemonclassification/\")"
   ]
  },
  {
   "cell_type": "code",
   "execution_count": null,
   "metadata": {},
   "outputs": [],
   "source": [
    "! python train.py"
   ]
  },
  {
   "cell_type": "code",
   "execution_count": null,
   "metadata": {},
   "outputs": [],
   "source": [
    "from modules import UNet_conditional\n",
    "from ddpm import Diffusion\n",
    "from utils import plot_images\n",
    "import torch\n",
    "from torch import tensor\n",
    "device = \"cuda\"\n",
    "num_classes=3\n",
    "labels=tensor([1], device='cuda:0')\n",
    "model = UNet_conditional(num_classes=num_classes).to(device)\n",
    "ckpt = torch.load(\"models/DDPM_conditional/checkpoint_epoch_49.pt\")\n",
    "model.load_state_dict(ckpt)\n",
    "diffusion = Diffusion(img_size=64, device=device)\n",
    "x = diffusion.sample(model, n=1, labels=labels)\n",
    "plot_images(x)"
   ]
  },
  {
   "cell_type": "code",
   "execution_count": null,
   "metadata": {},
   "outputs": [],
   "source": [
    "# import torch\n",
    "torch.cuda.empty_cache()"
   ]
  },
  {
   "cell_type": "code",
   "execution_count": null,
   "metadata": {},
   "outputs": [],
   "source": [
    "# ! ls -a PokemonData\n",
    "# ! rm -r PokemonData/.ipynb_checkpoints"
   ]
  },
  {
   "cell_type": "markdown",
   "metadata": {},
   "source": [
    "# Debugging"
   ]
  },
  {
   "cell_type": "markdown",
   "metadata": {},
   "source": [
    "import os\n",
    "import torch\n",
    "import torchvision\n",
    "from PIL import Image\n",
    "from matplotlib import pyplot as plt\n",
    "from torch.utils.data import DataLoader\n",
    "\n",
    "def get_data(filepath, image_size, batch_size):\n",
    "    transforms = torchvision.transforms.Compose(\n",
    "        [\n",
    "            torchvision.transforms.Resize(80),  # args.image_size + 1/4 *args.image_size\n",
    "            torchvision.transforms.RandomResizedCrop(image_size, scale=(0.8, 1.0)),\n",
    "            torchvision.transforms.ToTensor(),\n",
    "            torchvision.transforms.Normalize((0.5, 0.5, 0.5), (0.5, 0.5, 0.5)),\n",
    "        ]\n",
    "    )\n",
    "    print(filepath)\n",
    "    dataset = torchvision.datasets.ImageFolder(filepath, transform=transforms)\n",
    "    dataloader = DataLoader(dataset, batch_size=batch_size, shuffle=True)\n",
    "    return dataloader\n",
    "\n",
    "\n",
    "image_size=64\n",
    "batch_size=10\n",
    "dataloader = get_data('PokemonData',image_size,batch_size)\n",
    "\n",
    "for data in dataloader:\n",
    "    first_batch = data\n",
    "    break\n",
    "\n",
    "print (first_batch[0].shape)\n",
    "first_image = first_batch[0][0,...]\n",
    "first_image.shape\n",
    "plt.imshow(first_image_np)\n",
    "plt.axis('off')  # Turn off axis numbers\n",
    "plt.show()"
   ]
  }
 ],
 "metadata": {
  "language_info": {
   "name": "python"
  }
 },
 "nbformat": 4,
 "nbformat_minor": 2
}
