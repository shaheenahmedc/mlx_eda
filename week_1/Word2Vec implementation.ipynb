{
 "cells": [
  {
   "cell_type": "markdown",
   "id": "bc0404e3",
   "metadata": {},
   "source": [
    "# Imports"
   ]
  },
  {
   "cell_type": "code",
   "execution_count": null,
   "id": "548b32d8",
   "metadata": {},
   "outputs": [],
   "source": [
    "import pandas as pd\n",
    "import numpy as np"
   ]
  },
  {
   "cell_type": "markdown",
   "id": "069fe089",
   "metadata": {},
   "source": [
    "# Load parquet data"
   ]
  },
  {
   "cell_type": "code",
   "execution_count": null,
   "id": "77fb1f2a",
   "metadata": {},
   "outputs": [],
   "source": [
    "import pandas as pd\n",
    "import pyarrow as pa\n",
    "# Load Parquet data\n",
    "data_de_en = pd.read_parquet('../Data_Shaheen/CL_de-en.parquet')\n",
    "data_es_en = pd.read_parquet('../Data_Shaheen/CL_es-en.parquet')\n",
    "data_fr_en = pd.read_parquet('../Data_Shaheen/CL_fr-en.parquet')\n",
    "data_it_en = pd.read_parquet('../Data_Shaheen/CL_it-en.parquet')\n",
    "data_Flores = pd.read_parquet('../Data_Shaheen/Flores7Lang.parquet')\n"
   ]
  },
  {
   "cell_type": "markdown",
   "id": "193a765b",
   "metadata": {},
   "source": [
    "# Examine data"
   ]
  },
  {
   "cell_type": "code",
   "execution_count": null,
   "id": "840ee149",
   "metadata": {},
   "outputs": [],
   "source": [
    "print (data_de_en.shape)\n",
    "data_de_en.head()"
   ]
  },
  {
   "cell_type": "code",
   "execution_count": null,
   "id": "7bc2b9a7",
   "metadata": {},
   "outputs": [],
   "source": [
    "print (data_es_en.shape)\n",
    "data_es_en.head()"
   ]
  },
  {
   "cell_type": "code",
   "execution_count": null,
   "id": "67390ef1",
   "metadata": {},
   "outputs": [],
   "source": [
    "print (data_fr_en.shape)\n",
    "data_fr_en.head()"
   ]
  },
  {
   "cell_type": "code",
   "execution_count": null,
   "id": "1b55824b",
   "metadata": {},
   "outputs": [],
   "source": [
    "print (data_it_en.shape)\n",
    "data_it_en.head()"
   ]
  },
  {
   "cell_type": "code",
   "execution_count": null,
   "id": "a96b994a",
   "metadata": {},
   "outputs": [],
   "source": [
    "print (data_Flores.shape)\n",
    "data_Flores.head()"
   ]
  },
  {
   "cell_type": "code",
   "execution_count": null,
   "id": "18ee90cb",
   "metadata": {},
   "outputs": [],
   "source": [
    "import string\n",
    "\n",
    "def tokenizer(text: str):\n",
    "    \"\"\"\n",
    "\n",
    "    Args:\n",
    "    \n",
    "text (str): Input string to be tokenized.\n",
    "\n",
    "    Returns:\n",
    "    \n",
    "tokens (list of str): List of tokens.\"\"\"\n",
    "  # Replace common punctuation with spaces\n",
    "    for punct in string.punctuation:\n",
    "        text = text.replace(punct, ' ')\n",
    "  # Split the text on spaces and filter out empty tokens\n",
    "        tokens = text.strip().split()\n",
    "        return tokens"
   ]
  },
  {
   "cell_type": "markdown",
   "id": "7637db52",
   "metadata": {},
   "source": [
    "# Tokenizer"
   ]
  },
  {
   "cell_type": "code",
   "execution_count": null,
   "id": "1c6dc612",
   "metadata": {},
   "outputs": [],
   "source": [
    "from tokenizer import Tokenizer\n",
    "\n",
    "data_Flores = pd.read_parquet('../Data_Shaheen/Flores7Lang.parquet')\n",
    "# Get into (language, sentence) format\n",
    "long_format = data_Flores.melt(value_vars=data_Flores.columns)\n",
    "# Get one fat list, containing all sentences in all languages\n",
    "corpus = long_format[\"value\"].tolist()\n",
    "# Tokenise the fat list of all sentences, tokens = across languages\n",
    "tknz = Tokenizer(corpus)\n",
    "\n",
    "tknz.save_vocab(\"./vocab.txt\")\n",
    "tknz.load_vocab(\"./vocab.txt\")\n",
    "print(len(tknz.vocab))\n",
    "print(tknz.vocab[0:100])"
   ]
  },
  {
   "cell_type": "markdown",
   "id": "4a56dd99",
   "metadata": {},
   "source": [
    "# Datasets"
   ]
  },
  {
   "cell_type": "code",
   "execution_count": null,
   "id": "9672a855",
   "metadata": {},
   "outputs": [],
   "source": [
    "from dataset import W2VData, LangData"
   ]
  },
  {
   "cell_type": "code",
   "execution_count": null,
   "id": "657c3044",
   "metadata": {},
   "outputs": [],
   "source": []
  }
 ],
 "metadata": {
  "kernelspec": {
   "display_name": "Python 3 (ipykernel)",
   "language": "python",
   "name": "python3"
  },
  "language_info": {
   "codemirror_mode": {
    "name": "ipython",
    "version": 3
   },
   "file_extension": ".py",
   "mimetype": "text/x-python",
   "name": "python",
   "nbconvert_exporter": "python",
   "pygments_lexer": "ipython3",
   "version": "3.11.5"
  }
 },
 "nbformat": 4,
 "nbformat_minor": 5
}
